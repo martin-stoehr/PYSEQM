{
 "cells": [
  {
   "cell_type": "code",
   "execution_count": 1,
   "id": "04aef426-ee13-4824-947c-ce8f62b3bac6",
   "metadata": {},
   "outputs": [
    {
     "name": "stderr",
     "output_type": "stream",
     "text": [
      "/home/maxim/anaconda3/envs/hipnn_1/lib/python3.9/site-packages/tqdm/auto.py:21: TqdmWarning: IProgress not found. Please update jupyter and ipywidgets. See https://ipywidgets.readthedocs.io/en/stable/user_install.html\n",
      "  from .autonotebook import tqdm as notebook_tqdm\n"
     ]
    }
   ],
   "source": [
    "import torch\n",
    "import sys\n",
    "sys.path.insert(1, \"/home/maxim/Projects/git2/PYSEQM_dev/\") # PATH TO PYSEQM\n",
    "import seqm\n",
    "from seqm.seqm_functions.constants import Constants\n",
    "from seqm.Molecule import Molecule\n",
    "from seqm.ElectronicStructure import Electronic_Structure\n",
    "seqm.seqm_functions.scf_loop.debug=True # print SCF steps \n",
    "seqm.seqm_functions.scf_loop.MAX_ITER=500 # MAX number of SCF iterations\n",
    "\n",
    "DTYPE = torch.float64\n",
    "torch.set_default_dtype(DTYPE)\n",
    "if torch.cuda.is_available():\n",
    "    device = torch.device('cuda')\n",
    "else:\n",
    "    device = torch.device('cpu')"
   ]
  },
  {
   "cell_type": "code",
   "execution_count": 2,
   "id": "1b6aef5a-f107-4151-bd46-e19af5a759dc",
   "metadata": {
    "scrolled": true,
    "tags": []
   },
   "outputs": [
    {
     "name": "stderr",
     "output_type": "stream",
     "text": [
      "/home/maxim/Projects/git2/PYSEQM_dev/seqm/seqm_functions/diag_d.py:109: UserWarning: torch.symeig is deprecated in favor of torch.linalg.eigh and will be removed in a future PyTorch release.\n",
      "The default behavior has changed from using the upper triangular portion of the matrix by default to using the lower triangular portion.\n",
      "L, _ = torch.symeig(A, upper=upper)\n",
      "should be replaced with\n",
      "L = torch.linalg.eigvalsh(A, UPLO='U' if upper else 'L')\n",
      "and\n",
      "L, V = torch.symeig(A, eigenvectors=True)\n",
      "should be replaced with\n",
      "L, V = torch.linalg.eigh(A, UPLO='U' if upper else 'L') (Triggered internally at /opt/conda/conda-bld/pytorch_1670525551200/work/aten/src/ATen/native/BatchLinearAlgebra.cpp:2794.)\n",
      "  e0,v = torch.symeig(x0,eigenvectors=True,upper=True)\n"
     ]
    },
    {
     "name": "stdout",
     "output_type": "stream",
     "text": [
      "scf direct step  :   0 | MAX ΔE[   4]:   81.7746467 | MAX ΔDM[   4]:    0.2552329 | MAX ΔDM_ij[   4]:  1.0000000  | N not converged: 5\n",
      "scf direct step  :   1 | MAX ΔE[   1]:   10.2522138 | MAX ΔDM[   4]:    0.2373771 | MAX ΔDM_ij[   4]:  1.5960220  | N not converged: 5\n",
      "scf direct step  :   2 | MAX ΔE[   4]:   23.7740329 | MAX ΔDM[   4]:    0.2111070 | MAX ΔDM_ij[   4]:  1.3746724  | N not converged: 5\n",
      "scf direct step  :   3 | MAX ΔE[   4]:   12.8381890 | MAX ΔDM[   4]:    0.2170586 | MAX ΔDM_ij[   4]:  1.3256652  | N not converged: 5\n",
      "scf direct step  :   4 | MAX ΔE[   4]:   16.8776639 | MAX ΔDM[   4]:    0.2015102 | MAX ΔDM_ij[   4]:  1.3941663  | N not converged: 5\n",
      "scf direct step  :   5 | MAX ΔE[   4]:    7.1436214 | MAX ΔDM[   4]:    0.1931167 | MAX ΔDM_ij[   4]:  1.2433544  | N not converged: 5\n",
      "scf direct step  :   6 | MAX ΔE[   4]:   11.7135435 | MAX ΔDM[   4]:    0.1793226 | MAX ΔDM_ij[   4]:  1.1463584  | N not converged: 5\n",
      "scf direct step  :   7 | MAX ΔE[   4]:    1.2483319 | MAX ΔDM[   4]:    0.1628957 | MAX ΔDM_ij[   4]:  1.0512391  | N not converged: 5\n",
      "scf direct step  :   8 | MAX ΔE[   4]:    7.3804889 | MAX ΔDM[   4]:    0.1419894 | MAX ΔDM_ij[   4]:  0.9065188  | N not converged: 5\n",
      "scf direct step  :   9 | MAX ΔE[   4]:    1.9144973 | MAX ΔDM[   4]:    0.1227725 | MAX ΔDM_ij[   4]:  0.7881245  | N not converged: 5\n",
      "scf direct step  :  10 | MAX ΔE[   4]:    4.0471070 | MAX ΔDM[   4]:    0.0973430 | MAX ΔDM_ij[   4]:  0.6976000  | N not converged: 4\n",
      "scf direct step  :  11 | MAX ΔE[   4]:    2.0310655 | MAX ΔDM[   4]:    0.0787140 | MAX ΔDM_ij[   4]:  0.5733424  | N not converged: 4\n",
      "scf direct step  :  12 | MAX ΔE[   4]:    1.7851383 | MAX ΔDM[   4]:    0.0554434 | MAX ΔDM_ij[   4]:  0.4708839  | N not converged: 4\n",
      "scf direct step  :  13 | MAX ΔE[   4]:    0.9660046 | MAX ΔDM[   4]:    0.0412866 | MAX ΔDM_ij[   4]:  0.3352891  | N not converged: 4\n",
      "scf direct step  :  14 | MAX ΔE[   4]:    0.5795287 | MAX ΔDM[   4]:    0.0263660 | MAX ΔDM_ij[   4]:  0.2559234  | N not converged: 4\n",
      "scf direct step  :  15 | MAX ΔE[   1]:    0.4860749 | MAX ΔDM[   1]:    0.0205614 | MAX ΔDM_ij[   1]:  0.1554177  | N not converged: 4\n",
      "scf direct step  :  16 | MAX ΔE[   1]:    0.6604478 | MAX ΔDM[   1]:    0.0234821 | MAX ΔDM_ij[   1]:  0.1707219  | N not converged: 4\n",
      "scf direct step  :  17 | MAX ΔE[   1]:    0.7709383 | MAX ΔDM[   1]:    0.0246504 | MAX ΔDM_ij[   1]:  0.1990144  | N not converged: 4\n",
      "scf direct step  :  18 | MAX ΔE[   1]:    0.7375803 | MAX ΔDM[   1]:    0.0233129 | MAX ΔDM_ij[   1]:  0.2040488  | N not converged: 4\n",
      "scf direct step  :  19 | MAX ΔE[   1]:    0.5837980 | MAX ΔDM[   1]:    0.0200741 | MAX ΔDM_ij[   1]:  0.1791637  | N not converged: 4\n",
      "scf direct step  :  20 | MAX ΔE[   1]:    0.3982996 | MAX ΔDM[   1]:    0.0161344 | MAX ΔDM_ij[   1]:  0.1371036  | N not converged: 4\n",
      "scf direct step  :  21 | MAX ΔE[   1]:    0.2444510 | MAX ΔDM[   1]:    0.0123784 | MAX ΔDM_ij[   1]:  0.0951505  | N not converged: 4\n",
      "scf direct step  :  22 | MAX ΔE[   1]:    0.1394890 | MAX ΔDM[   1]:    0.0092085 | MAX ΔDM_ij[   1]:  0.0792383  | N not converged: 4\n",
      "scf direct step  :  23 | MAX ΔE[   1]:    0.0757459 | MAX ΔDM[   1]:    0.0067118 | MAX ΔDM_ij[   1]:  0.0624102  | N not converged: 4\n",
      "scf direct step  :  24 | MAX ΔE[   1]:    0.0397727 | MAX ΔDM[   1]:    0.0048262 | MAX ΔDM_ij[   1]:  0.0470332  | N not converged: 4\n",
      "scf direct step  :  25 | MAX ΔE[   1]:    0.0204138 | MAX ΔDM[   1]:    0.0034391 | MAX ΔDM_ij[   1]:  0.0344885  | N not converged: 3\n",
      "scf direct step  :  26 | MAX ΔE[   1]:    0.0103169 | MAX ΔDM[   4]:    0.0025579 | MAX ΔDM_ij[   1]:  0.0248607  | N not converged: 3\n",
      "scf direct step  :  27 | MAX ΔE[   4]:    0.0080713 | MAX ΔDM[   4]:    0.0023028 | MAX ΔDM_ij[   4]:  0.0177278  | N not converged: 3\n",
      "scf direct step  :  28 | MAX ΔE[   4]:    0.0065445 | MAX ΔDM[   4]:    0.0020722 | MAX ΔDM_ij[   4]:  0.0157879  | N not converged: 3\n",
      "scf direct step  :  29 | MAX ΔE[   4]:    0.0052933 | MAX ΔDM[   4]:    0.0018620 | MAX ΔDM_ij[   4]:  0.0142689  | N not converged: 3\n",
      "scf direct step  :  30 | MAX ΔE[   4]:    0.0042720 | MAX ΔDM[   4]:    0.0016718 | MAX ΔDM_ij[   4]:  0.0128829  | N not converged: 3\n",
      "scf direct step  :  31 | MAX ΔE[   4]:    0.0034410 | MAX ΔDM[   4]:    0.0014996 | MAX ΔDM_ij[   4]:  0.0116088  | N not converged: 3\n",
      "scf direct step  :  32 | MAX ΔE[   4]:    0.0027669 | MAX ΔDM[   4]:    0.0013441 | MAX ΔDM_ij[   4]:  0.0104494  | N not converged: 2\n",
      "scf direct step  :  33 | MAX ΔE[   4]:    0.0022215 | MAX ΔDM[   4]:    0.0012039 | MAX ΔDM_ij[   4]:  0.0093947  | N not converged: 2\n",
      "scf direct step  :  34 | MAX ΔE[   4]:    0.0017812 | MAX ΔDM[   4]:    0.0010778 | MAX ΔDM_ij[   4]:  0.0084391  | N not converged: 2\n",
      "scf direct step  :  35 | MAX ΔE[   4]:    0.0014265 | MAX ΔDM[   4]:    0.0009643 | MAX ΔDM_ij[   4]:  0.0075747  | N not converged: 2\n",
      "scf direct step  :  36 | MAX ΔE[   4]:    0.0011413 | MAX ΔDM[   4]:    0.0008624 | MAX ΔDM_ij[   4]:  0.0067945  | N not converged: 2\n",
      "scf direct step  :  37 | MAX ΔE[   4]:    0.0009123 | MAX ΔDM[   4]:    0.0007709 | MAX ΔDM_ij[   4]:  0.0060911  | N not converged: 2\n",
      "scf direct step  :  38 | MAX ΔE[   4]:    0.0007286 | MAX ΔDM[   4]:    0.0006889 | MAX ΔDM_ij[   4]:  0.0054579  | N not converged: 2\n",
      "scf direct step  :  39 | MAX ΔE[   4]:    0.0005816 | MAX ΔDM[   4]:    0.0006154 | MAX ΔDM_ij[   4]:  0.0048885  | N not converged: 2\n",
      "scf direct step  :  40 | MAX ΔE[   4]:    0.0004639 | MAX ΔDM[   4]:    0.0005496 | MAX ΔDM_ij[   4]:  0.0043769  | N not converged: 1\n",
      "scf direct step  :  41 | MAX ΔE[   4]:    0.0003699 | MAX ΔDM[   4]:    0.0004908 | MAX ΔDM_ij[   4]:  0.0039175  | N not converged: 1\n",
      "scf direct step  :  42 | MAX ΔE[   4]:    0.0002948 | MAX ΔDM[   4]:    0.0004381 | MAX ΔDM_ij[   4]:  0.0035054  | N not converged: 1\n",
      "scf direct step  :  43 | MAX ΔE[   4]:    0.0002348 | MAX ΔDM[   4]:    0.0003911 | MAX ΔDM_ij[   4]:  0.0031358  | N not converged: 1\n",
      "scf direct step  :  44 | MAX ΔE[   4]:    0.0001870 | MAX ΔDM[   4]:    0.0003490 | MAX ΔDM_ij[   4]:  0.0028046  | N not converged: 1\n",
      "scf direct step  :  45 | MAX ΔE[   4]:    0.0001489 | MAX ΔDM[   4]:    0.0003114 | MAX ΔDM_ij[   4]:  0.0025078  | N not converged: 1\n",
      "scf direct step  :  46 | MAX ΔE[   4]:    0.0001185 | MAX ΔDM[   4]:    0.0002778 | MAX ΔDM_ij[   4]:  0.0022420  | N not converged: 1\n",
      "scf direct step  :  47 | MAX ΔE[   4]:    0.0000943 | MAX ΔDM[   4]:    0.0002478 | MAX ΔDM_ij[   4]:  0.0020041  | N not converged: 1\n",
      "scf direct step  :  48 | MAX ΔE[   4]:    0.0000750 | MAX ΔDM[   4]:    0.0002211 | MAX ΔDM_ij[   4]:  0.0017911  | N not converged: 1\n",
      "scf direct step  :  49 | MAX ΔE[   4]:    0.0000597 | MAX ΔDM[   4]:    0.0001972 | MAX ΔDM_ij[   4]:  0.0016006  | N not converged: 1\n",
      "scf direct step  :  50 | MAX ΔE[   4]:    0.0000474 | MAX ΔDM[   4]:    0.0001759 | MAX ΔDM_ij[   4]:  0.0014301  | N not converged: 1\n",
      "scf direct step  :  51 | MAX ΔE[   4]:    0.0000377 | MAX ΔDM[   4]:    0.0001569 | MAX ΔDM_ij[   4]:  0.0012776  | N not converged: 1\n",
      "scf direct step  :  52 | MAX ΔE[   4]:    0.0000300 | MAX ΔDM[   4]:    0.0001399 | MAX ΔDM_ij[   4]:  0.0011413  | N not converged: 1\n",
      "scf direct step  :  53 | MAX ΔE[   4]:    0.0000239 | MAX ΔDM[   4]:    0.0001247 | MAX ΔDM_ij[   4]:  0.0010194  | N not converged: 1\n",
      "scf direct step  :  54 | MAX ΔE[   4]:    0.0000190 | MAX ΔDM[   4]:    0.0001112 | MAX ΔDM_ij[   4]:  0.0009104  | N not converged: 1\n",
      "scf direct step  :  55 | MAX ΔE[   4]:    0.0000151 | MAX ΔDM[   4]:    0.0000992 | MAX ΔDM_ij[   4]:  0.0008130  | N not converged: 1\n",
      "scf direct step  :  56 | MAX ΔE[   4]:    0.0000120 | MAX ΔDM[   4]:    0.0000884 | MAX ΔDM_ij[   4]:  0.0007260  | N not converged: 1\n",
      "scf direct step  :  57 | MAX ΔE[   4]:    0.0000095 | MAX ΔDM[   4]:    0.0000789 | MAX ΔDM_ij[   4]:  0.0006482  | N not converged: 1\n",
      "scf direct step  :  58 | MAX ΔE[   4]:    0.0000076 | MAX ΔDM[   4]:    0.0000703 | MAX ΔDM_ij[   4]:  0.0005787  | N not converged: 1\n",
      "scf direct step  :  59 | MAX ΔE[   4]:    0.0000060 | MAX ΔDM[   4]:    0.0000627 | MAX ΔDM_ij[   4]:  0.0005166  | N not converged: 1\n",
      "scf direct step  :  60 | MAX ΔE[   4]:    0.0000048 | MAX ΔDM[   4]:    0.0000559 | MAX ΔDM_ij[   4]:  0.0004612  | N not converged: 1\n",
      "scf direct step  :  61 | MAX ΔE[   4]:    0.0000038 | MAX ΔDM[   4]:    0.0000498 | MAX ΔDM_ij[   4]:  0.0004116  | N not converged: 1\n",
      "scf direct step  :  62 | MAX ΔE[   4]:    0.0000030 | MAX ΔDM[   4]:    0.0000444 | MAX ΔDM_ij[   4]:  0.0003674  | N not converged: 1\n",
      "scf direct step  :  63 | MAX ΔE[   3]:    0.0000029 | MAX ΔDM[   4]:    0.0000396 | MAX ΔDM_ij[   4]:  0.0003279  | N not converged: 1\n",
      "scf direct step  :  64 | MAX ΔE[   3]:    0.0000029 | MAX ΔDM[   4]:    0.0000353 | MAX ΔDM_ij[   4]:  0.0002926  | N not converged: 1\n",
      "scf direct step  :  65 | MAX ΔE[   3]:    0.0000029 | MAX ΔDM[   4]:    0.0000315 | MAX ΔDM_ij[   4]:  0.0002612  | N not converged: 1\n",
      "scf direct step  :  66 | MAX ΔE[   3]:    0.0000029 | MAX ΔDM[   4]:    0.0000281 | MAX ΔDM_ij[   4]:  0.0002330  | N not converged: 1\n",
      "scf direct step  :  67 | MAX ΔE[   3]:    0.0000029 | MAX ΔDM[   4]:    0.0000250 | MAX ΔDM_ij[   4]:  0.0002079  | N not converged: 1\n",
      "scf direct step  :  68 | MAX ΔE[   3]:    0.0000029 | MAX ΔDM[   4]:    0.0000223 | MAX ΔDM_ij[   4]:  0.0001855  | N not converged: 1\n",
      "scf direct step  :  69 | MAX ΔE[   3]:    0.0000029 | MAX ΔDM[   4]:    0.0000199 | MAX ΔDM_ij[   4]:  0.0001655  | N not converged: 0\n"
     ]
    }
   ],
   "source": [
    "species = torch.as_tensor([[16,16],[22,22],[22,16],[35,17],[24,22]],dtype=torch.int64, device=device)\n",
    "\n",
    "coordinates = torch.tensor([\n",
    "        [[0.0000,    0.0,    0.0000],\n",
    "         [0.0000,    1.2,    0.0000]],\n",
    "    \n",
    "        [[0.0000,    0.0,    0.0000],\n",
    "         [0.0000,    1.2,    0.0000]],\n",
    "    \n",
    "        [[0.0000,    0.0,    0.0000],\n",
    "         [0.0000,    1.2,    0.0000]],\n",
    "    \n",
    "        [[0.0000,    0.0,    0.0000],\n",
    "         [0.0000,    1.2,    0.0000]],\n",
    "    \n",
    "        [[0.0000,    0.0,    0.0000],\n",
    "         [0.0000,    1.2,    0.0000]],\n",
    "                 ], device=device)\n",
    "\n",
    "\n",
    "const = Constants().to(device)\n",
    "\n",
    "elements = [0]+sorted(set(species.reshape(-1).tolist()))\n",
    "seqm_parameters = {\n",
    "                   'method' : 'PM6',  # AM1, MNDO, PM3, PM6, PM6_SP. PM6_SP is PM6 without d-orbitals. Effectively, PM6 for the first two rows of periodic table\n",
    "                   'scf_eps' : 1.0e-5,  # unit eV, change of electric energy, as nuclear energy doesnt' change during SCF\n",
    "                   'scf_converger' : [0, 0.2], # converger used for scf loop\n",
    "                                         # [0, 0.1], [0, alpha] constant mixing, P = alpha*P + (1.0-alpha)*Pnew\n",
    "                                         # [1], adaptive mixing\n",
    "                                         # [2], adaptive mixing, then pulay\n",
    "                   'sp2' : [False, 1.0e-5],  # whether to use sp2 algorithm in scf loop,\n",
    "                                            #[True, eps] or [False], eps for SP2 conve criteria\n",
    "                   'elements' : elements, #[0,1,6,8],\n",
    "                   'learned' : [], # learned parameters name list, e.g ['U_ss']\n",
    "                   #'parameter_file_dir' : '../seqm/params/', # file directory for other required parameters\n",
    "                   'pair_outer_cutoff' : 1.0e10, # consistent with the unit on coordinates\n",
    "                   'eig' : True,\n",
    "                    \"Hf_flag\": True,\n",
    "                    'scf_backward' : 0,\n",
    "                    'UHF' : False, # open shell is currently not supported for PM6\n",
    "                   }\n",
    "\n",
    "molecules = Molecule(const, seqm_parameters, coordinates, species).to(device)\n",
    "esdriver = Electronic_Structure(seqm_parameters).to(device)\n",
    "esdriver(molecules)"
   ]
  },
  {
   "cell_type": "markdown",
   "id": "6b1f1b1a-4e34-4e8f-8973-d7bcd081b103",
   "metadata": {},
   "source": [
    "# Total E"
   ]
  },
  {
   "cell_type": "code",
   "execution_count": 3,
   "id": "816c2ba7-1cec-43c5-9e9a-c2b582ceed4b",
   "metadata": {},
   "outputs": [
    {
     "data": {
      "text/plain": [
       "tensor(-333.8298, device='cuda:0')"
      ]
     },
     "execution_count": 3,
     "metadata": {},
     "output_type": "execute_result"
    }
   ],
   "source": [
    "molecules.Etot[0] # S2. MOPAC Etot = -333.8287 EV"
   ]
  },
  {
   "cell_type": "code",
   "execution_count": 4,
   "id": "cb7e8201-5cf4-4500-85da-16f93f0eb4ad",
   "metadata": {},
   "outputs": [
    {
     "data": {
      "text/plain": [
       "tensor(-120.0663, device='cuda:0')"
      ]
     },
     "execution_count": 4,
     "metadata": {},
     "output_type": "execute_result"
    }
   ],
   "source": [
    "molecules.Etot[1] # Ti2. MOPAC Etot = -120.0651 EV"
   ]
  },
  {
   "cell_type": "code",
   "execution_count": 5,
   "id": "f24a4e38-8197-449a-87a2-28e4930f8ecd",
   "metadata": {},
   "outputs": [
    {
     "data": {
      "text/plain": [
       "tensor(-221.2703, device='cuda:0')"
      ]
     },
     "execution_count": 5,
     "metadata": {},
     "output_type": "execute_result"
    }
   ],
   "source": [
    "molecules.Etot[2] # TiS. MOPAC Etot = -221.2701 EV"
   ]
  },
  {
   "cell_type": "code",
   "execution_count": 6,
   "id": "6a339a48-2992-479b-b6c1-6a31f170d5b7",
   "metadata": {},
   "outputs": [
    {
     "data": {
      "text/plain": [
       "tensor(-458.5839, device='cuda:0')"
      ]
     },
     "execution_count": 6,
     "metadata": {},
     "output_type": "execute_result"
    }
   ],
   "source": [
    "molecules.Etot[3] # BrCl. MOPAC Etot = -458.5855 EV"
   ]
  },
  {
   "cell_type": "code",
   "execution_count": 7,
   "id": "c1009387-c3e4-49b3-b17f-71c1ec716ced",
   "metadata": {},
   "outputs": [
    {
     "data": {
      "text/plain": [
       "tensor(-255.8133, device='cuda:0')"
      ]
     },
     "execution_count": 7,
     "metadata": {},
     "output_type": "execute_result"
    }
   ],
   "source": [
    "molecules.Etot[4] # CrTi. MOPAC Etot = -150.3163 EV  !!! Wrong nuclear rep parameters"
   ]
  },
  {
   "cell_type": "code",
   "execution_count": null,
   "id": "0ee5f699-d1c9-488e-8be2-f136c75be7f4",
   "metadata": {},
   "outputs": [],
   "source": []
  },
  {
   "cell_type": "markdown",
   "id": "2abfacdd-f954-43d3-8986-7d00281f9411",
   "metadata": {},
   "source": [
    "# Nuclear repulsion"
   ]
  },
  {
   "cell_type": "code",
   "execution_count": 8,
   "id": "be316495-70b8-4949-91d4-4d93f53b0026",
   "metadata": {},
   "outputs": [
    {
     "data": {
      "text/plain": [
       "tensor(290.8621, device='cuda:0')"
      ]
     },
     "execution_count": 8,
     "metadata": {},
     "output_type": "execute_result"
    }
   ],
   "source": [
    "molecules.Enuc[0] # S2. MOPAC Enuc = 290.8693 EV"
   ]
  },
  {
   "cell_type": "code",
   "execution_count": 9,
   "id": "9337ff83-8f7b-4db4-a7cf-45545d04e355",
   "metadata": {},
   "outputs": [
    {
     "data": {
      "text/plain": [
       "tensor(97.3923, device='cuda:0')"
      ]
     },
     "execution_count": 9,
     "metadata": {},
     "output_type": "execute_result"
    }
   ],
   "source": [
    "molecules.Enuc[1] # Ti2. MOPAC Enuc = 97.3923 EV"
   ]
  },
  {
   "cell_type": "code",
   "execution_count": 10,
   "id": "917c576c-97a1-4c93-be8a-8163e3e54c9e",
   "metadata": {},
   "outputs": [
    {
     "data": {
      "text/plain": [
       "tensor(176.1491, device='cuda:0')"
      ]
     },
     "execution_count": 10,
     "metadata": {},
     "output_type": "execute_result"
    }
   ],
   "source": [
    "molecules.Enuc[2] # TiS. MOPAC Enuc = 176.1518 EV"
   ]
  },
  {
   "cell_type": "code",
   "execution_count": 11,
   "id": "c06f9c0d-8cb9-4534-b47d-986969d8478e",
   "metadata": {},
   "outputs": [
    {
     "data": {
      "text/plain": [
       "tensor(391.1087, device='cuda:0')"
      ]
     },
     "execution_count": 11,
     "metadata": {},
     "output_type": "execute_result"
    }
   ],
   "source": [
    "molecules.Enuc[3] # BrCl. MOPAC Enuc = 391.1161 EV"
   ]
  },
  {
   "cell_type": "code",
   "execution_count": 12,
   "id": "f8cf1105-3324-4f27-86c3-73f4dcdb7e25",
   "metadata": {},
   "outputs": [
    {
     "data": {
      "text/plain": [
       "tensor(145.6016, device='cuda:0')"
      ]
     },
     "execution_count": 12,
     "metadata": {},
     "output_type": "execute_result"
    }
   ],
   "source": [
    "molecules.Enuc[4] # CrTi. MOPAC Enuc = 251.0941 EV  !!! Wrong nuclear rep parameters"
   ]
  },
  {
   "cell_type": "code",
   "execution_count": null,
   "id": "28472491-fcf9-4a2a-b2fd-104bf8565939",
   "metadata": {},
   "outputs": [],
   "source": []
  }
 ],
 "metadata": {
  "kernelspec": {
   "display_name": "hipnn_1",
   "language": "python",
   "name": "hipnn_1"
  },
  "language_info": {
   "codemirror_mode": {
    "name": "ipython",
    "version": 3
   },
   "file_extension": ".py",
   "mimetype": "text/x-python",
   "name": "python",
   "nbconvert_exporter": "python",
   "pygments_lexer": "ipython3",
   "version": "3.9.16"
  }
 },
 "nbformat": 4,
 "nbformat_minor": 5
}
