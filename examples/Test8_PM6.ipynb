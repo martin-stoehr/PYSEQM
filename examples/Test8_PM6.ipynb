{
 "cells": [
  {
   "cell_type": "code",
   "execution_count": null,
   "id": "04aef426-ee13-4824-947c-ce8f62b3bac6",
   "metadata": {},
   "outputs": [],
   "source": [
    "import torch\n",
    "import sys\n",
    "import seqm\n",
    "from seqm.seqm_functions.constants import Constants\n",
    "from seqm.Molecule import Molecule\n",
    "from seqm.ElectronicStructure import Electronic_Structure\n",
    "seqm.seqm_functions.scf_loop.debug=True # print SCF steps \n",
    "seqm.seqm_functions.scf_loop.MAX_ITER=500 # MAX number of SCF iterations\n",
    "\n",
    "DTYPE = torch.float64\n",
    "torch.set_default_dtype(DTYPE)\n",
    "if torch.cuda.is_available():\n",
    "    device = torch.device('cuda')\n",
    "else:\n",
    "    device = torch.device('cpu')"
   ]
  },
  {
   "cell_type": "code",
   "execution_count": null,
   "id": "1b6aef5a-f107-4151-bd46-e19af5a759dc",
   "metadata": {
    "scrolled": true,
    "tags": []
   },
   "outputs": [],
   "source": [
    "species = torch.as_tensor([[16,16],[22,22],[22,16],[35,17],[24,22]],dtype=torch.int64, device=device)\n",
    "\n",
    "coordinates = torch.tensor([\n",
    "        [[0.0000,    0.0,    0.0000],\n",
    "         [0.0000,    1.2,    0.0000]],\n",
    "    \n",
    "        [[0.0000,    0.0,    0.0000],\n",
    "         [0.0000,    1.2,    0.0000]],\n",
    "    \n",
    "        [[0.0000,    0.0,    0.0000],\n",
    "         [0.0000,    1.2,    0.0000]],\n",
    "    \n",
    "        [[0.0000,    0.0,    0.0000],\n",
    "         [0.0000,    1.2,    0.0000]],\n",
    "    \n",
    "        [[0.0000,    0.0,    0.0000],\n",
    "         [0.0000,    1.2,    0.0000]],\n",
    "                 ], device=device)\n",
    "\n",
    "\n",
    "const = Constants().to(device)\n",
    "\n",
    "elements = [0]+sorted(set(species.reshape(-1).tolist()))\n",
    "seqm_parameters = {\n",
    "                   'method' : 'PM6',  # AM1, MNDO, PM3, PM6, PM6_SP. PM6_SP is PM6 without d-orbitals. Effectively, PM6 for the first two rows of periodic table\n",
    "                   'scf_eps' : 1.0e-5,  # unit eV, change of electric energy, as nuclear energy doesnt' change during SCF\n",
    "                   'scf_converger' : [2], # converger used for scf loop\n",
    "                                         # [0, 0.1], [0, alpha] constant mixing, P = alpha*P + (1.0-alpha)*Pnew\n",
    "                                         # [1], adaptive mixing\n",
    "                                         # [2], adaptive mixing, then pulay\n",
    "                   'sp2' : [False, 1.0e-5],  # whether to use sp2 algorithm in scf loop,\n",
    "                                            #[True, eps] or [False], eps for SP2 conve criteria\n",
    "                   'elements' : elements, #[0,1,6,8],\n",
    "                   'learned' : [], # learned parameters name list, e.g ['U_ss']\n",
    "                   #'parameter_file_dir' : '../seqm/params/', # file directory for other required parameters\n",
    "                   'pair_outer_cutoff' : 1.0e10, # consistent with the unit on coordinates\n",
    "                   'eig' : True,\n",
    "                    \"Hf_flag\": True,\n",
    "                    'scf_backward' : 1,\n",
    "                    'UHF' : False, # open shell is currently not supported for PM6\n",
    "                   }\n",
    "\n",
    "molecules = Molecule(const, seqm_parameters, coordinates, species).to(device)\n",
    "esdriver = Electronic_Structure(seqm_parameters).to(device)\n",
    "esdriver(molecules)"
   ]
  },
  {
   "cell_type": "markdown",
   "id": "6b1f1b1a-4e34-4e8f-8973-d7bcd081b103",
   "metadata": {},
   "source": [
    "# Total E"
   ]
  },
  {
   "cell_type": "code",
   "execution_count": null,
   "id": "816c2ba7-1cec-43c5-9e9a-c2b582ceed4b",
   "metadata": {},
   "outputs": [],
   "source": [
    "molecules.Etot[0] # S2. MOPAC Etot = -333.8287 EV"
   ]
  },
  {
   "cell_type": "code",
   "execution_count": null,
   "id": "cb7e8201-5cf4-4500-85da-16f93f0eb4ad",
   "metadata": {},
   "outputs": [],
   "source": [
    "molecules.Etot[1] # Ti2. MOPAC Etot = -120.0651 EV"
   ]
  },
  {
   "cell_type": "code",
   "execution_count": null,
   "id": "f24a4e38-8197-449a-87a2-28e4930f8ecd",
   "metadata": {},
   "outputs": [],
   "source": [
    "molecules.Etot[2] # TiS. MOPAC Etot = -221.2701 EV"
   ]
  },
  {
   "cell_type": "code",
   "execution_count": null,
   "id": "6a339a48-2992-479b-b6c1-6a31f170d5b7",
   "metadata": {},
   "outputs": [],
   "source": [
    "molecules.Etot[3] # BrCl. MOPAC Etot = -458.5855 EV"
   ]
  },
  {
   "cell_type": "code",
   "execution_count": null,
   "id": "c1009387-c3e4-49b3-b17f-71c1ec716ced",
   "metadata": {},
   "outputs": [],
   "source": [
    "molecules.Etot[4] # CrTi. MOPAC Etot = -150.3163 EV  !!! Wrong nuclear rep parameters"
   ]
  },
  {
   "cell_type": "code",
   "execution_count": null,
   "id": "0ee5f699-d1c9-488e-8be2-f136c75be7f4",
   "metadata": {},
   "outputs": [],
   "source": []
  },
  {
   "cell_type": "markdown",
   "id": "2abfacdd-f954-43d3-8986-7d00281f9411",
   "metadata": {},
   "source": [
    "# Nuclear repulsion"
   ]
  },
  {
   "cell_type": "code",
   "execution_count": null,
   "id": "be316495-70b8-4949-91d4-4d93f53b0026",
   "metadata": {},
   "outputs": [],
   "source": [
    "molecules.Enuc[0] # S2. MOPAC Enuc = 290.8693 EV"
   ]
  },
  {
   "cell_type": "code",
   "execution_count": null,
   "id": "9337ff83-8f7b-4db4-a7cf-45545d04e355",
   "metadata": {},
   "outputs": [],
   "source": [
    "molecules.Enuc[1] # Ti2. MOPAC Enuc = 97.3923 EV"
   ]
  },
  {
   "cell_type": "code",
   "execution_count": null,
   "id": "917c576c-97a1-4c93-be8a-8163e3e54c9e",
   "metadata": {},
   "outputs": [],
   "source": [
    "molecules.Enuc[2] # TiS. MOPAC Enuc = 176.1518 EV"
   ]
  },
  {
   "cell_type": "code",
   "execution_count": null,
   "id": "c06f9c0d-8cb9-4534-b47d-986969d8478e",
   "metadata": {},
   "outputs": [],
   "source": [
    "molecules.Enuc[3] # BrCl. MOPAC Enuc = 391.1161 EV"
   ]
  },
  {
   "cell_type": "code",
   "execution_count": null,
   "id": "f8cf1105-3324-4f27-86c3-73f4dcdb7e25",
   "metadata": {},
   "outputs": [],
   "source": [
    "molecules.Enuc[4] # CrTi. MOPAC Enuc = 251.0941 EV  !!! Wrong nuclear rep parameters"
   ]
  },
  {
   "cell_type": "code",
   "execution_count": null,
   "id": "28472491-fcf9-4a2a-b2fd-104bf8565939",
   "metadata": {},
   "outputs": [],
   "source": []
  }
 ],
 "metadata": {
  "kernelspec": {
   "display_name": "Python 3 (ipykernel)",
   "language": "python",
   "name": "python3"
  },
  "language_info": {
   "codemirror_mode": {
    "name": "ipython",
    "version": 3
   },
   "file_extension": ".py",
   "mimetype": "text/x-python",
   "name": "python",
   "nbconvert_exporter": "python",
   "pygments_lexer": "ipython3",
   "version": "3.9.18"
  }
 },
 "nbformat": 4,
 "nbformat_minor": 5
}
